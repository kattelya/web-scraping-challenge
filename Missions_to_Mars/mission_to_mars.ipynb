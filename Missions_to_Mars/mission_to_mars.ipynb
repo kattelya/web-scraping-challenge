{
 "cells": [
  {
   "cell_type": "code",
   "execution_count": 22,
   "metadata": {},
   "outputs": [],
   "source": [
    "# Dependencies\n",
    "from bs4 import BeautifulSoup as bs \n",
    "import requests\n",
    "from splinter import Browser\n",
    "from selenium import webdriver\n",
    "import time\n",
    "import pandas as pd\n",
    "import re\n",
    "\n",
    "# Please run the cell slowly as it takes time to go from one link to another"
   ]
  },
  {
   "cell_type": "code",
   "execution_count": 23,
   "metadata": {},
   "outputs": [],
   "source": [
    "executable_path = {\"executable_path\":\"/usr/local/bin/chromedriver\"}\n",
    "browser = Browser(\"chrome\", **executable_path, headless=False)"
   ]
  },
  {
   "cell_type": "markdown",
   "metadata": {},
   "source": [
    "# Scraping from NASA Mars News"
   ]
  },
  {
   "cell_type": "code",
   "execution_count": 6,
   "metadata": {},
   "outputs": [
    {
     "data": {
      "text/plain": [
       "True"
      ]
     },
     "execution_count": 6,
     "metadata": {},
     "output_type": "execute_result"
    }
   ],
   "source": [
    "# Url for Nasa Mars News \n",
    "nasa_url = \"https://mars.nasa.gov/news/\"\n",
    "browser.visit(nasa_url)\n",
    "\n",
    "#Scrape page into Soup Object \n",
    "html = browser.html\n",
    "\n",
    "# parse HTML with BS \n",
    "soup = bs(html, 'html.parser')\n",
    "browser.is_element_present_by_css(\"li.slide\", wait_time=2)\n",
    "#type(soup)\n",
    "#print(soup.prettify())"
   ]
  },
  {
   "cell_type": "code",
   "execution_count": 7,
   "metadata": {},
   "outputs": [
    {
     "name": "stdout",
     "output_type": "stream",
     "text": [
      "NASA's Perseverance Rover Will Look at Mars Through These 'Eyes'\n",
      "A pair of zoomable cameras will help scientists and rover drivers with high-resolution color images.\n"
     ]
    }
   ],
   "source": [
    "# using . notation to extract the value of the HTML document - example    \n",
    "# Extract from the most recent article its title and paragraph text \n",
    "#\n",
    "article = soup.select_one(\"li.slide div.list_text\")\n",
    "title = article.find(\"div\", class_=\"content_title\").text\n",
    "paragraph = article.find(\"div\", class_=\"article_teaser_body\").text\n",
    "\n",
    "# print scrapped information \n",
    "#print(article.prettify())\n",
    "print(title)\n",
    "print(paragraph)"
   ]
  },
  {
   "cell_type": "markdown",
   "metadata": {},
   "source": [
    "# JPL Mars Space Images - Featured Image"
   ]
  },
  {
   "cell_type": "code",
   "execution_count": 8,
   "metadata": {},
   "outputs": [
    {
     "name": "stdout",
     "output_type": "stream",
     "text": [
      "http://www.jpl.nasa.gov/spaceimages/images/largesize/PIA17661_hires.jpg\n"
     ]
    }
   ],
   "source": [
    "#URL for JPL Mars Space Images \n",
    "jpl_mars_images = \"https://www.jpl.nasa.gov/spaceimages/?search=&category=Mars\"\n",
    "browser.visit(jpl_mars_images)\n",
    "#pause to make sure the webpage to load first.\n",
    "time.sleep(3)\n",
    "\n",
    "#retrieve background-image url -- use .click method to go from one page to next page\n",
    "featured_image = browser.links.find_by_partial_text('FULL IMAGE')\n",
    "featured_image.click()\n",
    "time.sleep(3)\n",
    "\n",
    "featured_image = browser.links.find_by_partial_text('more info')\n",
    "featured_image.click()\n",
    "time.sleep(3)\n",
    "\n",
    "\n",
    "#Scrape page into Soup object \n",
    "html = browser.html\n",
    "soup = bs(html, 'html.parser')\n",
    "image_url = soup.select_one('figure.lede a img').get('src')\n",
    "\n",
    "website_url = \"http://www.jpl.nasa.gov\"\n",
    "\n",
    "featured_image_url = f\"{website_url}{image_url}\"\n",
    "\n",
    "print(featured_image_url)"
   ]
  },
  {
   "cell_type": "markdown",
   "metadata": {},
   "source": [
    "# Mars Weather"
   ]
  },
  {
   "cell_type": "code",
   "execution_count": 27,
   "metadata": {},
   "outputs": [],
   "source": [
    "# Visit Mars Weather Twitter through splinter module\n",
    "weather_url = 'https://twitter.com/marswxreport?lang=en'\n",
    "browser.visit(weather_url)\n",
    "\n",
    "#Scrape page into Soup object \n",
    "html = browser.html\n",
    "soup = bs(html, 'html.parser')"
   ]
  },
  {
   "cell_type": "code",
   "execution_count": 29,
   "metadata": {},
   "outputs": [
    {
     "name": "stdout",
     "output_type": "stream",
     "text": [
      "\n",
      "\n",
      "\n",
      "\n",
      "\n",
      "\n",
      "\n",
      "\n",
      "\n",
      "\n",
      "\n",
      "\n",
      "\n",
      "\n",
      "\n",
      "\n",
      "\n",
      "\n",
      "\n",
      "\n",
      "\n",
      "\n",
      "\n",
      "\n",
      "\n",
      "\n",
      "\n",
      "\n",
      "\n",
      "\n",
      "\n",
      "\n",
      "\n",
      "\n",
      "\n",
      "\n",
      "\n",
      "\n",
      "\n",
      "\n",
      "\n",
      "\n",
      "\n",
      "\n",
      "\n",
      "\n",
      "\n",
      "\n",
      "\n",
      "\n",
      "\n",
      "\n",
      "\n",
      "\n",
      "\n",
      "\n",
      "\n",
      "\n",
      "\n",
      "\n",
      "\n",
      "\n",
      "\n",
      "\n",
      "\n",
      "\n",
      "\n",
      "\n",
      "\n",
      "\n",
      "\n",
      "\n",
      "\n",
      "\n",
      "\n",
      "\n",
      "\n",
      "\n",
      "\n",
      "html,body{height: 100%;}body{-ms-overflow-style:scrollbar;overflow-y:scroll;overscroll-behavior-y:none;}\n",
      "[stylesheet-group=\"0\"]{}\n",
      "html{-ms-text-size-adjust:100%;-webkit-text-size-adjust:100%;-webkit-tap-highlight-color:rgba(0,0,0,0);}\n",
      "body{margin:0;}\n",
      "button::-moz-focus-inner,input::-moz-focus-inner{border:0;padding:0;}\n",
      "input::-webkit-inner-spin-button,input::-webkit-outer-spin-button,input::-webkit-search-cancel-button,input::-webkit-search-decoration,input::-webkit-search-results-button,input::-webkit-search-results-decoration{display:none;}\n",
      "[stylesheet-group=\"0.1\"]{}\n",
      ":focus:not([data-focusvisible-polyfill]){outline: none;}\n",
      "[stylesheet-group=\"1\"]{}\n",
      ".css-1dbjc4n{-ms-flex-align:stretch;-ms-flex-direction:column;-ms-flex-negative:0;-ms-flex-preferred-size:auto;-webkit-align-items:stretch;-webkit-box-align:stretch;-webkit-box-direction:normal;-webkit-box-orient:vertical;-webkit-flex-basis:auto;-webkit-flex-direction:column;-webkit-flex-shrink:0;align-items:stretch;border:0 solid black;box-sizing:border-box;display:-webkit-box;display:-moz-box;display:-ms-flexbox;display:-webkit-flex;display:flex;flex-basis:auto;flex-direction:column;flex-shrink:0;margin-bottom:0px;margin-left:0px;margin-right:0px;margin-top:0px;min-height:0px;min-width:0px;padding-bottom:0px;padding-left:0px;padding-right:0px;padding-top:0px;position:relative;z-index:0;}\n",
      ".css-901oao{border:0 solid black;box-sizing:border-box;color:rgba(0,0,0,1.00);display:inline;font:14px system-ui,-apple-system,BlinkMacSystemFont,\"Segoe UI\",Roboto,Ubuntu,\"Helvetica Neue\",sans-serif;margin-bottom:0px;margin-left:0px;margin-right:0px;margin-top:0px;padding-bottom:0px;padding-left:0px;padding-right:0px;padding-top:0px;white-space:pre-wrap;word-wrap:break-word;}\n",
      ".css-16my406{color:inherit;font:inherit;white-space:inherit;}\n",
      "[stylesheet-group=\"2\"]{}\n",
      ".r-13awgt0{-ms-flex-negative:1;-ms-flex-positive:1;-ms-flex-preferred-size:0%;-webkit-box-flex:1;-webkit-flex-basis:0%;-webkit-flex-grow:1;-webkit-flex-shrink:1;flex-basis:0%;flex-grow:1;flex-shrink:1;}\n",
      ".r-4qtqp9{display:inline-block;}\n",
      ".r-ywje51{margin-bottom:auto;margin-left:auto;margin-right:auto;margin-top:auto;}\n",
      ".r-hvic4v{display:none;}\n",
      ".r-1adg3ll{display:block;}\n",
      "[stylesheet-group=\"2.2\"]{}\n",
      ".r-12vffkv>*{pointer-events:auto;}\n",
      ".r-12vffkv{pointer-events:none!important;}\n",
      ".r-14lw9ot{background-color:rgba(255,255,255,1.00);}\n",
      ".r-1p0dtai{bottom:0px;}\n",
      ".r-1d2f490{left:0px;}\n",
      ".r-1xcajam{position:fixed;}\n",
      ".r-zchlnj{right:0px;}\n",
      ".r-ipm5af{top:0px;}\n",
      ".r-yyyyoo{fill:currentcolor;}\n",
      ".r-1xvli5t{height:1.25em;}\n",
      ".r-dnmrzs{max-width:100%;}\n",
      ".r-bnwqim{position:relative;}\n",
      ".r-1plcrui{vertical-align:text-bottom;}\n",
      ".r-lrvibr{-moz-user-select:none;-ms-user-select:none;-webkit-user-select:none;user-select:none;}\n",
      ".r-13gxpu9{color:rgba(29,161,242,1.00);}\n",
      ".r-wy61xf{height:72px;}\n",
      ".r-u8s1d{position:absolute;}\n",
      ".r-1blnp2b{width:72px;}\n",
      ".r-1ykxob0{top:60%;}\n",
      ".r-1b2b6em{line-height:2em;}\n",
      ".r-q4m81j{text-align:center;}\n",
      "Twitter\n",
      "\n",
      "\n",
      "\n",
      "We've detected that JavaScript is disabled in your browser. Would you like to proceed to legacy Twitter?\n",
      "\n",
      "Yes\n",
      "\n",
      "\n",
      "\n",
      "\n",
      "Log inSign up\n",
      "\n",
      "window.__INITIAL_STATE__ = {\"optimist\":[],\"featureSwitch\":{\"config\":{\"account_country_setting_countries_whitelist\":{\"value\":[\"ad\",\"ae\",\"af\",\"ag\",\"ai\",\"al\",\"am\",\"ao\",\"ar\",\"as\",\"at\",\"au\",\"aw\",\"ax\",\"az\",\"ba\",\"bb\",\"bd\",\"be\",\"bf\",\"bg\",\"bh\",\"bi\",\"bj\",\"bl\",\"bm\",\"bn\",\"bo\",\"bq\",\"br\",\"bs\",\"bt\",\"bv\",\"bw\",\"by\",\"bz\",\"ca\",\"cc\",\"cd\",\"cf\",\"cg\",\"ch\",\"ci\",\"ck\",\"cl\",\"cm\",\"co\",\"cr\",\"cu\",\"cv\",\"cw\",\"cx\",\"cy\",\"cz\",\"de\",\"dj\",\"dk\",\"dm\",\"do\",\"dz\",\"ec\",\"ee\",\"eg\",\"er\",\"es\",\"et\",\"fi\",\"fj\",\"fk\",\"fm\",\"fo\",\"fr\",\"ga\",\"gb\",\"gd\",\"ge\",\"gf\",\"gg\",\"gh\",\"gi\",\"gl\",\"gm\",\"gn\",\"gp\",\"gq\",\"gr\",\"gs\",\"gt\",\"gu\",\"gw\",\"gy\",\"hk\",\"hn\",\"hr\",\"ht\",\"hu\",\"id\",\"ie\",\"il\",\"im\",\"in\",\"io\",\"iq\",\"ir\",\"is\",\"it\",\"je\",\"jm\",\"jo\",\"jp\",\"ke\",\"kg\",\"kh\",\"ki\",\"km\",\"kn\",\"kr\",\"kw\",\"ky\",\"kz\",\"la\",\"lb\",\"lc\",\"li\",\"lk\",\"lr\",\"ls\",\"lt\",\"lu\",\"lv\",\"ly\",\"ma\",\"mc\",\"md\",\"me\",\"mf\",\"mg\",\"mh\",\"mk\",\"ml\",\"mn\",\"mo\",\"mp\",\"mq\",\"mr\",\"ms\",\"mt\",\"mu\",\"mv\",\"mw\",\"mx\",\"my\",\"mz\",\"na\",\"nc\",\"ne\",\"nf\",\"ng\",\"ni\",\"nl\",\"no\",\"np\",\"nr\",\"nu\",\"nz\",\"om\",\"pa\",\"pe\",\"pf\",\"pg\",\"ph\",\"pk\",\"pl\",\"pm\",\"pn\",\"pr\",\"ps\",\"pt\",\"pw\",\"py\",\"qa\",\"re\",\"ro\",\"rs\",\"ru\",\"rw\",\"sa\",\"sb\",\"sc\",\"se\",\"sg\",\"sh\",\"si\",\"sk\",\"sl\",\"sm\",\"sn\",\"so\",\"sr\",\"st\",\"sv\",\"sx\",\"sz\",\"tc\",\"td\",\"tf\",\"tg\",\"th\",\"tj\",\"tk\",\"tl\",\"tm\",\"tn\",\"to\",\"tr\",\"tt\",\"tv\",\"tw\",\"tz\",\"ua\",\"ug\",\"us\",\"uy\",\"uz\",\"va\",\"vc\",\"ve\",\"vi\",\"vn\",\"vu\",\"wf\",\"ws\",\"xk\",\"ye\",\"yt\",\"za\",\"zm\",\"zw\"]},\"author_moderated_replies_urt_container_enabled\":{\"value\":false},\"content_language_setting_enabled\":{\"value\":true},\"conversation_controls_limited_replies_creation_enabled\":{\"value\":false},\"conversation_controls_limited_replies_consumption_configuration\":{\"value\":\"\"},\"dm_reactions_config_active_reactions\":{\"value\":[\"😂:funny\",\"😲:surprised\",\"😢:sad\",\"❤:like\",\"🔥:excited\",\"👍:agree\",\"👎:disagree\"]},\"dm_reactions_config_inactive_reactions\":{\"value\":[\"😠:angry\"]},\"guest_broadcasting_timeline_decorations_enabled\":{\"value\":true},\"home_timeline_latest_timeline_autoswitch_half_life_minutes\":{\"value\":43200},\"home_timeline_latest_timeline_autoswitch_threshold_multiplier\":{\"value\":2},\"home_timeline_latest_timeline_max_time_to_autoswitch_minutes\":{\"value\":5256000},\"home_timeline_latest_timeline_min_time_to_autoswitch_minutes\":{\"value\":5256000},\"home_timeline_latest_timeline_switch_enabled\":{\"value\":true},\"home_timeline_latest_timeline_threshold_to_increase_autoswitch_seconds\":{\"value\":60},\"home_timeline_spheres_channel_copy_enabled\":{\"value\":false},\"home_timeline_spheres_detail_page_muting_enabled\":{\"value\":false},\"home_timeline_spheres_creation_and_edit_flows_enabled\":{\"value\":false},\"home_timeline_spheres_discovery_page_enabled\":{\"value\":false},\"home_timeline_spheres_list_cell_thumbnail_enabled\":{\"value\":false},\"home_timeline_spheres_max_user_owned_or_subscribed_lists_count\":{\"value\":5},\"home_timeline_spheres_management_page_enabled\":{\"value\":true},\"home_timeline_spheres_ranking_mode_control_enabled\":{\"value\":true},\"live_event_multi_video_auto_advance_dock_enabled\":{\"value\":true},\"live_event_multi_video_auto_advance_enabled\":{\"value\":true},\"live_event_multi_video_auto_advance_fullscreen_enabled\":{\"value\":false},\"live_event_multi_video_auto_advance_transition_duration_seconds\":{\"value\":5},\"live_event_multi_video_enabled\":{\"value\":true},\"live_event_timeline_default_refresh_rate_interval_seconds\":{\"value\":30},\"live_event_timeline_minimum_refresh_rate_interval_seconds\":{\"value\":10},\"live_event_timeline_server_controlled_refresh_rate_enabled\":{\"value\":true},\"live_event_vod_promoted_content_enabled\":{\"value\":true},\"live_event_docking_enabled\":{\"value\":true},\"livepipeline_client_enabled\":{\"value\":true},\"livepipeline_dm_features_enabled\":{\"value\":true},\"livepipeline_tweetengagement_enabled\":{\"value\":true},\"moment_annotations_enabled\":{\"value\":true},\"navigation_stack_referrer_param_enabled\":{\"value\":false},\"network_layer_503_backoff_mode\":{\"value\":\"host\"},\"responsive_web_2fa_settings_change_copy_enabled\":{\"value\":true},\"responsive_web_alt_svc\":{\"value\":false},\"responsive_web_alt_text_badge_enabled\":{\"value\":false},\"responsive_web_alt_text_by_default_enabled\":{\"value\":true},\"responsive_web_alt_text_gif_default_text_enabled\":{\"value\":true},\"responsive_web_alt_text_gifs_enabled\":{\"value\":true},\"responsive_web_alt_text_max_length\":{\"value\":1000},\"responsive_web_api_transition_enabled\":{\"value\":false},\"responsive_web_auto_logout_multiaccount_enabled\":{\"value\":true},\"responsive_web_auto_logout_restrictedauthtoken_enabled\":{\"value\":true},\"responsive_web_auto_logout_twid_enabled\":{\"value\":true},\"responsive_web_branch_download_links_enabled\":{\"value\":true},\"responsive_web_branch_sdk_enabled\":{\"value\":true},\"responsive_web_broadcast_page_card_enabled\":{\"value\":true},\"responsive_web_cleanup_macaw_swift_indexed_db\":{\"value\":true},\"responsive_web_continue_as_param_enabled\":{\"value\":true},\"responsive_web_continue_as_always_enabled\":{\"value\":false},\"responsive_web_conversation_tree_enabled\":{\"value\":false},\"responsive_web_conversation_tree_toggle\":{\"value\":false},\"responsive_web_conversation_tree_hide_tweet_actions\":{\"value\":false},\"responsive_web_conversation_tree_hide_tweet_action_counts\":{\"value\":false},\"responsive_web_conversation_tree_hide_caret\":{\"value\":false},\"responsive_web_csrf_clientside_enabled\":{\"value\":true},\"responsive_web_dark_mode_scrollbars_enabled\":{\"value\":false},\"responsive_web_desktop_app_reload_hard_ttl\":{\"value\":86400000},\"responsive_web_desktop_app_reload_nightly_reset_enabled\":{\"value\":false},\"responsive_web_desktop_app_reload_soft_ttl\":{\"value\":86400000},\"responsive_web_disable_access\":{\"value\":true},\"responsive_web_dm_typeahead_enabled\":{\"value\":true},\"responsive_web_dm_quick_access_enabled\":{\"value\":false},\"responsive_web_dm_quick_access_multi_draft_enabled\":{\"value\":true},\"responsive_web_dm_quick_access_multi_draft_with_text_enabled\":{\"value\":false},\"responsive_web_elevated_qt_api_enabled\":{\"value\":false},\"responsive_web_elevated_qt_ui_configuration\":{\"value\":\"\"},\"responsive_web_eu_countries\":{\"value\":[\"at\",\"be\",\"bg\",\"ch\",\"cy\",\"cz\",\"de\",\"dk\",\"ee\",\"es\",\"fi\",\"fr\",\"gb\",\"gr\",\"hr\",\"hu\",\"ie\",\"is\",\"it\",\"li\",\"lt\",\"lu\",\"lv\",\"mt\",\"nl\",\"no\",\"pl\",\"pt\",\"ro\",\"se\",\"si\",\"sk\"]},\"responsive_web_explore_as_lohp_enabled\":{\"value\":true},\"responsive_web_explore_tab_followup_enabled\":{\"value\":false},\"responsive_web_extension_compatibility_hide\":{\"value\":false},\"responsive_web_extension_compatibility_impression_guard\":{\"value\":true},\"responsive_web_extension_compatibility_override_param\":{\"value\":false},\"responsive_web_extension_compatibility_scribe\":{\"value\":true},\"responsive_web_extension_compatibility_size_threshold\":{\"value\":50},\"responsive_web_fake_root_twitter_domain_for_testing\":{\"value\":false},\"responsive_web_feature_switch_dash_enabled\":{\"value\":false},\"responsive_web_fetch_hashflags_on_boot\":{\"value\":true},\"responsive_web_framerate_tracking_home_enabled\":{\"value\":false},\"responsive_web_graphql_amr_timeline\":{\"value\":false},\"responsive_web_graphql_dark_reads_probability\":{\"value\":0},\"responsive_web_graphql_list_crud\":{\"value\":true},\"responsive_web_graphql_list_management_timelines_enabled\":{\"value\":false},\"responsive_web_graphql_list_members_subscribers_enabled\":{\"value\":false},\"responsive_web_graphql_list_operations\":{\"value\":false},\"responsive_web_graphql_user_everywhere\":{\"value\":false},\"responsive_web_graphql_verify_credentials_enabled\":{\"value\":true},\"responsive_web_guest_token_reporting\":{\"value\":true},\"responsive_web_hide_media_previews_enabled\":{\"value\":false},\"responsive_web_hoisting_anchor_invalidation_enabled\":{\"value\":false},\"responsive_web_home_wait_for_seenIds_enabled\":{\"value\":false},\"responsive_web_horizon_video_player_enabled\":{\"value\":true},\"responsive_web_html_archive_renderer_enabled\":{\"value\":true},\"responsive_web_hw_cards_in_dms_enabled\":{\"value\":false},\"responsive_web_inline_login_field_prompts_enabled\":{\"value\":false},\"responsive_web_composer_multi_draft_enabled\":{\"value\":true},\"responsive_web_inline_reply_enabled\":{\"value\":false},\"responsive_web_inline_reply_with_fab_enabled\":{\"value\":false},\"responsive_web_instream_video_enabled\":{\"value\":false},\"responsive_web_live_video_parity_periscope_auth_enabled\":{\"value\":false},\"responsive_web_login_input_type_email_enabled\":{\"value\":false},\"responsive_web_login_signup_sheet_app_install_cta_enabled\":{\"value\":true},\"responsive_web_media_upload_eager_enabled\":{\"value\":true},\"responsive_web_media_upload_limit_2g\":{\"value\":250},\"responsive_web_media_upload_limit_3g\":{\"value\":1500},\"responsive_web_media_upload_limit_slow_2g\":{\"value\":150},\"responsive_web_media_upload_md5_hashing_enabled\":{\"value\":false},\"responsive_web_media_upload_target_jpg_pixels_per_byte\":{\"value\":1},\"responsive_web_media_viewer_m2_focal_tweet_media_enabled\":{\"value\":false},\"responsive_web_media_viewer_m2_sidebar_enabled\":{\"value\":true},\"responsive_web_media_viewer_m2_tweet_actions_bar_enabled\":{\"value\":true},\"responsive_web_moment_maker_enabled\":{\"value\":false},\"responsive_web_multiple_account_limit\":{\"value\":5},\"responsive_web_new_multi_account_ux_enabled\":{\"value\":true},\"responsive_web_news_camera_consume_enabled\":{\"value\":true},\"responsive_web_ntab_verified_mentions_vit_internal_dogfood\":{\"value\":false},\"responsive_web_ocf_sms_autoverify_enabled\":{\"value\":false},\"responsive_web_report_page_not_found\":{\"value\":false},\"responsive_web_rich_tweet_landing_enabled\":{\"value\":true},\"responsive_web_scheduling_edit_enabled\":{\"value\":false},\"responsive_web_scheduling_enabled\":{\"value\":false},\"responsive_web_scheduling_entry_point\":{\"value\":\"overflow\"},\"responsive_web_scroller_autopoll_enabled\":{\"value\":false},\"responsive_web_scroller_v3_enabled\":{\"value\":true},\"responsive_web_search_dms_enabled\":{\"value\":true},\"responsive_web_side_nav_enabled\":{\"value\":false},\"responsive_web_sports_carousel\":{\"value\":false},\"responsive_web_trends_setting_new_endpoints\":{\"value\":true},\"responsive_web_trigger_test_backoff_on_bookmark\":{\"value\":false},\"responsive_web_tweet_detail_to_tweet_enabled\":{\"value\":false},\"responsive_web_tweet_drafts_enabled\":{\"value\":false},\"responsive_web_tweets_pill_local_enabled\":{\"value\":false},\"responsive_web_unified_cards_live_event_enabled\":{\"value\":true},\"responsive_web_unified_cards_poll2choice_image_enabled\":{\"value\":false},\"responsive_web_unified_cards_poll2choice_video_enabled\":{\"value\":false},\"responsive_web_unified_cards_poll3choice_image_enabled\":{\"value\":false},\"responsive_web_unified_cards_poll3choice_video_enabled\":{\"value\":false},\"responsive_web_unified_cards_poll4choice_image_enabled\":{\"value\":false},\"responsive_web_unified_cards_poll4choice_video_enabled\":{\"value\":false},\"responsive_web_verification_v2_enabled\":{\"value\":true},\"responsive_web_video_native_fullscreen_enabled\":{\"value\":true},\"responsive_web_video_promoted_logging_enabled\":{\"value\":true},\"responsive_web_vod_muted_captions_enabled\":{\"value\":true},\"responsive_web_vs_config_desktop_assumed_item_height\":{\"value\":100},\"responsive_web_vs_config_resize_observer_enabled\":{\"value\":true},\"responsive_web_zipkin_api_requests_enabled\":{\"value\":false},\"scribe_api_error_sample_size\":{\"value\":0},\"scribe_api_sample_size\":{\"value\":100},\"scribe_cdn_host_list\":{\"value\":[\"si0.twimg.com\",\"si1.twimg.com\",\"si2.twimg.com\",\"si3.twimg.com\",\"a0.twimg.com\",\"a1.twimg.com\",\"a2.twimg.com\",\"a3.twimg.com\",\"abs.twimg.com\",\"amp.twimg.com\",\"o.twimg.com\",\"pbs.twimg.com\",\"pbs-eb.twimg.com\",\"pbs-ec.twimg.com\",\"pbs-v6.twimg.com\",\"pbs-h1.twimg.com\",\"pbs-h2.twimg.com\",\"video.twimg.com\",\"platform.twitter.com\",\"cdn.api.twitter.com\",\"ton.twimg.com\",\"v.cdn.vine.co\",\"mtc.cdn.vine.co\",\"edge.vncdn.co\",\"mid.vncdn.co\"]},\"scribe_cdn_sample_size\":{\"value\":50},\"scribe_enabled\":{\"value\":true},\"soft_interventions_forward_pivot_enabled\":{\"value\":true},\"topic_landing_page_enabled\":{\"value\":false},\"topics_descriptions_enabled\":{\"value\":false},\"topics_dismiss_control_enabled\":{\"value\":false},\"topics_new_mgmt_enabled\":{\"value\":false},\"tweet_limited_actions_config_enabled\":{\"value\":true},\"tweet_limited_actions_config_non_compliant\":{\"value\":[\"reply\",\"retweet\",\"like\",\"send_via_dm\",\"add_to_bookmarks\",\"add_to_moment\",\"pin_to_profile\",\"view_tweet_activity\",\"share_tweet_via\"]},\"user_display_name_max_limit\":{\"value\":50},\"web_video_hls_mp4_threshold_sec\":{\"value\":0},\"web_video_hlsjs_max_buffer_length_pause\":{\"value\":0},\"web_video_hlsjs_max_buffer_length_play\":{\"value\":0},\"web_video_hlsjs_version\":{\"value\":\"\"}},\"debug\":{},\"impression_pointers\":{\"responsive_web_inline_login_field_prompts_enabled\":[\"responsive_web_tfw_inline_login_field_prompts_9324\"]},\"impressions\":{\"responsive_web_tfw_inline_login_field_prompts_9324\":{\"key\":\"responsive_web_tfw_inline_login_field_prompts_9324\",\"bucket\":\"control\",\"version\":3}},\"featureSetToken\":\"82a06ec2e0b27a2c652054ee948482a991e30605\",\"isLoaded\":true,\"isLoading\":false,\"keysRead\":{},\"settingsVersion\":\"e3f2995d54920ede00012c3047d07a96\"},\"urt\":{},\"entities\":{\"users\":{\"entities\":{},\"errors\":{},\"fetchStatus\":{}},\"tweets\":{\"entities\":{},\"errors\":{},\"fetchStatus\":{}},\"cards\":{\"entities\":{},\"errors\":{},\"fetchStatus\":{}}},\"toasts\":[],\"devices\":{\"browserPush\":{\"fetchStatus\":\"none\",\"pushNotificationsPrompt\":{\"dismissed\":false,\"fetchStatus\":\"none\"},\"subscribed\":false,\"supported\":null},\"devices\":{\"data\":{\"emails\":[],\"phone_numbers\":[]},\"fetchStatus\":\"none\"},\"notificationSettings\":{\"push_settings\":{\"error\":null,\"fetchStatus\":\"none\"},\"push_settings_template\":{\"template\":{\"settings\":[]}},\"sms_settings\":{\"error\":null,\"fetchStatus\":\"none\"},\"sms_settings_template\":{\"template\":{\"settings\":[]}},\"checkin_time\":null}},\"typeaheadUsers\":{\"fetchStatus\":\"none\",\"users\":{},\"denylist\":{},\"lastUpdated\":0,\"index\":{}},\"session\":{\"country\":\"US\",\"emailLiteLoginEligibility\":{\"fetchStatus\":\"none\"},\"guestId\":\"158905621203409995\",\"language\":\"en\",\"oneFactorLoginEligibility\":{\"fetchStatus\":\"none\"}},\"settings\":{\"local\":{\"nextPushCheckin\":0,\"shouldAutoPlayGif\":false,\"scale\":\"normal\",\"themeColor\":\"blue\",\"highContrastEnabled\":false,\"themeBackground\":\"light\",\"loginPromptLastShown\":0,\"mediaPreviewsEnabled\":true,\"reducedMotionEnabled\":false,\"conversationTreeEnabled\":false,\"showTweetMediaDetailDrawer\":true},\"remote\":{\"settings\":{\"display_sensitive_media\":false},\"fetchStatus\":\"none\"},\"dataSaver\":{\"dataSaverMode\":false},\"transient\":{\"dtabBarInfo\":{\"dtabAll\":null,\"dtabRweb\":null,\"hide\":false},\"loginPromptShown\":false,\"lastViewedDmInboxPath\":\"/messages\",\"themeFocus\":\"\"}},\"hashflags\":{\"fetchStatus\":\"none\",\"hashflags\":{}}};\n",
      "window.__META_DATA__ = {\"env\":\"prod\",\"isFromDynamicRenderer\":false,\"isLoggedIn\":false,\"isRTL\":false,\"hasMultiAccountCookie\":false,\"userAgentRequestHeader\":\"Mozilla/5.0 (Macintosh; Intel Mac OS X 10_14_5) AppleWebKit/537.36 (KHTML, like Gecko) Chrome/81.0.4044.138 Safari/537.36\",\"serverDate\":1589056314940,\"sha\":\"d238c599f986a437fd21a99449fb5a01c49b2b23\"};\n",
      "\n",
      "\n",
      "  window.__SCRIPTS_LOADED__ = {};\n",
      "  !function(e){function n(n){for(var o,i,t=n[0],l=n[1],c=n[2],m=0,s=[];m<t.length;m++)i=t[m],Object.prototype.hasOwnProperty.call(a,i)&&a[i]&&s.push(a[i][0]),a[i]=0;for(o in l)Object.prototype.hasOwnProperty.call(l,o)&&(e[o]=l[o]);for(u&&u(n);s.length;)s.shift()();return r.push.apply(r,c||[]),d()}function d(){for(var e,n=0;n<r.length;n++){for(var d=r[n],o=!0,t=1;t<d.length;t++){var l=d[t];0!==a[l]&&(o=!1)}o&&(r.splice(n--,1),e=i(i.s=d[0]))}return e}var o={},a={0:0},r=[];function i(n){if(o[n])return o[n].exports;var d=o[n]={i:n,l:!1,exports:{}};return e[n].call(d.exports,d,d.exports,i),d.l=!0,d.exports}i.e=function(e){var n=[],d=a[e];if(0!==d)if(d)n.push(d[2]);else{var o=new Promise((function(n,o){d=a[e]=[n,o]}));n.push(d[2]=o);var r,t=document.createElement(\"script\");t.charset=\"utf-8\",t.timeout=120,i.nc&&t.setAttribute(\"nonce\",i.nc),t.src=function(e){return i.p+\"\"+({2:\"shared~bundle.HomeTimeline\",3:\"shared~bundle.DirectMessages\",4:\"shared~bundle.UserProfile\",5:\"shared~bundle.Settings\",6:\"bundle.DMRichTextCompose~bundle.DirectMessages~loader.DMDrawer\",7:\"bundle.NewsCameraCapsule~loader.NewsCamera~loaders.video.VideoPlayerDefaultUI\",8:\"bundle.Display~bundle.Settings\",9:\"bundle.Explore~loader.ExploreSidebar\",10:\"bundle.LiveEvent~bundle.MomentMaker\",11:\"bundle.NewsCameraCapsule~loader.NewsCamera\",12:\"bundle.Place~bundle.QuoteTweetActivity\",13:\"loaders.video.PlayerBase~ondemand.lex\",14:\"vendors~bundle.DMRichTextCompose~ondemand.RichText\",15:\"vendors~bundle.MomentMaker~ondemand.EditPinned\",16:\"bundle.AboutThisAd\",17:\"bundle.Account\",18:\"bundle.AdvancedSearch\",19:\"bundle.Bookmarks\",20:\"bundle.Broadcast\",21:\"bundle.Collection\",22:\"bundle.Compose\",23:\"bundle.ComposeMedia\",24:\"bundle.ConnectTab\",25:\"bundle.Conversation\",26:\"bundle.ConversationParticipants\",27:\"bundle.DMRichTextCompose\",28:\"bundle.DirectMessages\",29:\"bundle.Display\",30:\"bundle.Download\",31:\"bundle.Explore\",32:\"bundle.ExploreTopics\",33:\"bundle.FollowerRequests\",34:\"bundle.GenericTimeline\",35:\"bundle.GifSearch\",36:\"bundle.HomeTimeline\",37:\"bundle.KeyboardShortcuts\",38:\"bundle.LiveEvent\",39:\"bundle.LoggedOutHome\",40:\"bundle.Login\",41:\"bundle.Logout\",42:\"bundle.Moment\",43:\"bundle.MomentMaker\",44:\"bundle.MultiAccount\",45:\"bundle.NetworkInstrument\",46:\"bundle.NewsCameraCapsule\",47:\"bundle.NotificationDetail\",48:\"bundle.Notifications\",49:\"bundle.Ocf\",50:\"bundle.Place\",51:\"bundle.PlainTextCompose\",52:\"bundle.ProfileRedirect\",53:\"bundle.QuoteTweetActivity\",54:\"bundle.Report\",55:\"bundle.RichTextCompose\",56:\"bundle.Search\",57:\"bundle.Settings\",58:\"bundle.SettingsInternals\",59:\"bundle.SettingsProfile\",60:\"bundle.SettingsTransparency\",61:\"bundle.SmsLogin\",62:\"bundle.Topics\",63:\"bundle.Trends\",64:\"bundle.TweetActivity\",65:\"bundle.TweetMediaDetail\",66:\"bundle.TweetMediaTags\",67:\"bundle.Twitterversary\",68:\"bundle.UserAvatar\",69:\"bundle.UserFollowLists\",70:\"bundle.UserHeader\",71:\"bundle.UserLists\",72:\"bundle.UserMoments\",73:\"bundle.UserProfile\",74:\"bundle.UserProfileTimelines\",75:\"bundle.UserRedirect\",174:\"loader.AbsolutePower\",175:\"loader.AppModules\",176:\"loader.DMDrawer\",177:\"loader.DashMenu\",178:\"loader.ExploreSidebar\",179:\"loader.FeedbackSheet\",180:\"loader.FeedbackTombstone\",181:\"loader.HWCard\",182:\"loader.NewTweetsPill\",183:\"loader.NewsCamera\",184:\"loader.PeriscopeOverlay\",185:\"loader.ProfileClusterFollow\",186:\"loader.PushNotificationsPrompt\",187:\"loader.SideNav\",188:\"loader.SignupModule\",189:\"loader.TimelineGap\",190:\"loader.TimelineRenderer\",191:\"loader.TweetCurationActionMenu\",192:\"loader.TweetPhotos\",193:\"loader.Typeahead\",194:\"loader.WideLayout\",195:\"loader.graphQLDarkReads\",196:\"loaders.video.PlayerBase\",197:\"loaders.video.PlayerHls12\",198:\"loaders.video.PlayerHls13\",199:\"loaders.video.PlayerUi\",200:\"loaders.video.VideoPlayerDefaultUI\",202:\"ondemand.Balloons\",203:\"ondemand.CarouselScroller\",204:\"ondemand.ComposeScheduling\",205:\"ondemand.Dropdown\",206:\"ondemand.EditBirthdate\",207:\"ondemand.EditPinned\",208:\"ondemand.EmojiPicker\",209:\"ondemand.HoverCard\",210:\"ondemand.InlinePlayer\",211:\"ondemand.IntentPrompt\",212:\"ondemand.MicrosoftInterface\",213:\"ondemand.ProfileSidebar\",214:\"ondemand.RichText\",215:\"ondemand.SettingsInternals\",216:\"ondemand.countries-ar\",217:\"ondemand.countries-bg\",218:\"ondemand.countries-bn\",219:\"ondemand.countries-ca\",220:\"ondemand.countries-cs\",221:\"ondemand.countries-da\",222:\"ondemand.countries-de\",223:\"ondemand.countries-el\",224:\"ondemand.countries-en\",225:\"ondemand.countries-en-GB\",226:\"ondemand.countries-es\",227:\"ondemand.countries-eu\",228:\"ondemand.countries-fa\",229:\"ondemand.countries-fi\",230:\"ondemand.countries-fil\",231:\"ondemand.countries-fr\",232:\"ondemand.countries-ga\",233:\"ondemand.countries-gl\",234:\"ondemand.countries-gu\",235:\"ondemand.countries-he\",236:\"ondemand.countries-hi\",237:\"ondemand.countries-hr\",238:\"ondemand.countries-hu\",239:\"ondemand.countries-id\",240:\"ondemand.countries-it\",241:\"ondemand.countries-ja\",242:\"ondemand.countries-kn\",243:\"ondemand.countries-ko\",244:\"ondemand.countries-mr\",245:\"ondemand.countries-ms\",246:\"ondemand.countries-nb\",247:\"ondemand.countries-nl\",248:\"ondemand.countries-pl\",249:\"ondemand.countries-pt\",250:\"ondemand.countries-ro\",251:\"ondemand.countries-ru\",252:\"ondemand.countries-sk\",253:\"ondemand.countries-sr\",254:\"ondemand.countries-sv\",255:\"ondemand.countries-ta\",256:\"ondemand.countries-th\",257:\"ondemand.countries-tr\",258:\"ondemand.countries-uk\",259:\"ondemand.countries-ur\",260:\"ondemand.countries-zh\",261:\"ondemand.countries-zh-Hant\",262:\"ondemand.emoji.ar\",263:\"ondemand.emoji.bg\",264:\"ondemand.emoji.bn\",265:\"ondemand.emoji.ca\",266:\"ondemand.emoji.cs\",267:\"ondemand.emoji.da\",268:\"ondemand.emoji.de\",269:\"ondemand.emoji.el\",270:\"ondemand.emoji.en\",271:\"ondemand.emoji.en-GB\",272:\"ondemand.emoji.en-ss\",273:\"ondemand.emoji.en-xx\",274:\"ondemand.emoji.es\",275:\"ondemand.emoji.eu\",276:\"ondemand.emoji.fa\",277:\"ondemand.emoji.fi\",278:\"ondemand.emoji.fil\",279:\"ondemand.emoji.fr\",280:\"ondemand.emoji.ga\",281:\"ondemand.emoji.gl\",282:\"ondemand.emoji.gu\",283:\"ondemand.emoji.he\",284:\"ondemand.emoji.hi\",285:\"ondemand.emoji.hr\",286:\"ondemand.emoji.hu\",287:\"ondemand.emoji.id\",288:\"ondemand.emoji.it\",289:\"ondemand.emoji.ja\",290:\"ondemand.emoji.kn\",291:\"ondemand.emoji.ko\",292:\"ondemand.emoji.mr\",293:\"ondemand.emoji.ms\",294:\"ondemand.emoji.nb\",295:\"ondemand.emoji.nl\",296:\"ondemand.emoji.pl\",297:\"ondemand.emoji.pt\",298:\"ondemand.emoji.ro\",299:\"ondemand.emoji.ru\",300:\"ondemand.emoji.sk\",301:\"ondemand.emoji.sr\",302:\"ondemand.emoji.sv\",303:\"ondemand.emoji.ta\",304:\"ondemand.emoji.th\",305:\"ondemand.emoji.tr\",306:\"ondemand.emoji.uk\",307:\"ondemand.emoji.ur\",308:\"ondemand.emoji.vi\",309:\"ondemand.emoji.zh\",310:\"ondemand.emoji.zh-Hant\",311:\"ondemand.framerateTracking\",312:\"ondemand.lex\",314:\"vendors~bundle.MomentMaker\",315:\"vendors~loaders.video.PlayerBase\",316:\"vendors~loaders.video.PlayerUi\",317:\"vendors~ondemand.EmojiPicker\"}[e]||e)+\".\"+{2:\"1bac3e1\",3:\"7431191\",4:\"7668758\",5:\"e46f108\",6:\"50c1f92\",7:\"a9a5b28\",8:\"39f0932\",9:\"4aa7cac\",10:\"7719810\",11:\"ea3248d\",12:\"450734b\",13:\"8be4203\",14:\"6dc8eb1\",15:\"7f08f8f\",16:\"3c1b4d6\",17:\"d1ba4dc\",18:\"ee190eb\",19:\"6233fd2\",20:\"265a527\",21:\"674d90c\",22:\"5ff1c92\",23:\"e20e4ec\",24:\"0ea8d89\",25:\"88c3c76\",26:\"6665a34\",27:\"a1f24ee\",28:\"5ab53d8\",29:\"9dfcceb\",30:\"79d5106\",31:\"ef4b4b4\",32:\"5db776b\",33:\"fd5ac67\",34:\"b778f15\",35:\"f7b0062\",36:\"e8c3d97\",37:\"f79cc14\",38:\"eaa6e64\",39:\"ddb89ab\",40:\"2a669e4\",41:\"af16204\",42:\"066025b\",43:\"61bd2d6\",44:\"f45a3d5\",45:\"e11fbf1\",46:\"5fcb650\",47:\"3ddf73a\",48:\"bed86d7\",49:\"0c9d181\",50:\"ed4f612\",51:\"9ed602d\",52:\"28c2ee4\",53:\"a5ff466\",54:\"4f0f6e9\",55:\"8ea3207\",56:\"d9c6900\",57:\"a8dfd11\",58:\"c3b71a3\",59:\"d38fb74\",60:\"1f52e9d\",61:\"ee4a790\",62:\"e50a921\",63:\"e5a0b02\",64:\"4d0facb\",65:\"e856bfb\",66:\"fcb3668\",67:\"ed0c311\",68:\"53d7d22\",69:\"dfd3940\",70:\"80c5c61\",71:\"b1e02d6\",72:\"045850a\",73:\"bbf168b\",74:\"6380f7f\",75:\"aa5ea82\",174:\"028441d\",175:\"b15854a\",176:\"5131fdb\",177:\"f8be5f0\",178:\"6397c0e\",179:\"e7766ec\",180:\"ffa9c65\",181:\"5751be4\",182:\"354ec3c\",183:\"fd689d9\",184:\"8dc386c\",185:\"02f7d2c\",186:\"f3d06cf\",187:\"28255e1\",188:\"b1f61a4\",189:\"446ac2b\",190:\"1800d42\",191:\"2d56e79\",192:\"6bc7609\",193:\"1922908\",194:\"0773ff5\",195:\"2bae4b5\",196:\"d99ff6a\",197:\"743a1e6\",198:\"bf934d9\",199:\"34fcf2d\",200:\"18f6552\",202:\"4be0407\",203:\"d3e1f96\",204:\"d551373\",205:\"29d5b6d\",206:\"8d44833\",207:\"2d73987\",208:\"2bcf459\",209:\"0c0ec29\",210:\"63be958\",211:\"a319b55\",212:\"9e26b2f\",213:\"72a4e40\",214:\"618ac62\",215:\"ff9ab38\",216:\"d3a9457\",217:\"110ad3a\",218:\"f8fbce1\",219:\"679c6d6\",220:\"8e99e8c\",221:\"813a309\",222:\"a156126\",223:\"938ccd0\",224:\"0edf23a\",225:\"4b1c4ba\",226:\"cbbab63\",227:\"360a7b4\",228:\"5785cca\",229:\"2d62a21\",230:\"0f1f044\",231:\"62f4178\",232:\"1a419fc\",233:\"0d9ac3e\",234:\"d170ff3\",235:\"272b5da\",236:\"073e659\",237:\"f3aef9b\",238:\"e8a9cfa\",239:\"e5adc03\",240:\"187a22d\",241:\"99e2040\",242:\"2376b2e\",243:\"bbd6bbc\",244:\"63dfd0a\",245:\"0af97e2\",246:\"de0b213\",247:\"538161d\",248:\"181ca01\",249:\"746d1d3\",250:\"70eb11d\",251:\"af57577\",252:\"825daec\",253:\"4251e73\",254:\"c48670d\",255:\"9d74550\",256:\"fd6f2d0\",257:\"83302cc\",258:\"47ce058\",259:\"e3ea46f\",260:\"9c1be22\",261:\"b3e5fde\",262:\"bfd3d7d\",263:\"23875b3\",264:\"57f4fcb\",265:\"b4cb309\",266:\"80f2e16\",267:\"417ffeb\",268:\"c95f13e\",269:\"7b2e4c1\",270:\"9ec907e\",271:\"f7438a0\",272:\"edc66c0\",273:\"2a3d7d7\",274:\"6b009e5\",275:\"3d1eba8\",276:\"ddb9941\",277:\"584a1ee\",278:\"f01a275\",279:\"bfc99d9\",280:\"135af51\",281:\"df2579c\",282:\"0bfbde8\",283:\"2e30654\",284:\"54cd204\",285:\"8277da8\",286:\"c6429ec\",287:\"8283636\",288:\"7ffef07\",289:\"b5ef018\",290:\"913f6b5\",291:\"96ee8ff\",292:\"03c4666\",293:\"10341e4\",294:\"9a7ad3e\",295:\"2ddd00b\",296:\"c48eca8\",297:\"9d9ac8b\",298:\"5d9913c\",299:\"ba8278c\",300:\"0f69b19\",301:\"5a95fcf\",302:\"85d15af\",303:\"7e32517\",304:\"6fa9e37\",305:\"2f0b46f\",306:\"c564f77\",307:\"9a7d8cd\",308:\"03f9d3f\",309:\"e638e4a\",310:\"8c35228\",311:\"234b5c6\",312:\"40a7be2\",314:\"72d3d98\",315:\"4acda1d\",316:\"83b83e4\",317:\"3f23a82\"}[e]+\"4.js\"}(e);var l=new Error;r=function(n){t.onerror=t.onload=null,clearTimeout(c);var d=a[e];if(0!==d){if(d){var o=n&&(\"load\"===n.type?\"missing\":n.type),r=n&&n.target&&n.target.src;l.message=\"Loading chunk \"+e+\" failed.\\n(\"+o+\": \"+r+\")\",l.name=\"ChunkLoadError\",l.type=o,l.request=r,d[1](l)}a[e]=void 0}};var c=setTimeout((function(){r({type:\"timeout\",target:t})}),12e4);t.onerror=t.onload=r,document.head.appendChild(t)}return Promise.all(n)},i.m=e,i.c=o,i.d=function(e,n,d){i.o(e,n)||Object.defineProperty(e,n,{enumerable:!0,get:d})},i.r=function(e){\"undefined\"!=typeof Symbol&&Symbol.toStringTag&&Object.defineProperty(e,Symbol.toStringTag,{value:\"Module\"}),Object.defineProperty(e,\"__esModule\",{value:!0})},i.t=function(e,n){if(1&n&&(e=i(e)),8&n)return e;if(4&n&&\"object\"==typeof e&&e&&e.__esModule)return e;var d=Object.create(null);if(i.r(d),Object.defineProperty(d,\"default\",{enumerable:!0,value:e}),2&n&&\"string\"!=typeof e)for(var o in e)i.d(d,o,function(n){return e[n]}.bind(null,o));return d},i.n=function(e){var n=e&&e.__esModule?function(){return e.default}:function(){return e};return i.d(n,\"a\",n),n},i.o=function(e,n){return Object.prototype.hasOwnProperty.call(e,n)},i.p=\"https://abs.twimg.com/responsive-web/web/\",i.oe=function(e){throw e};var t=window.webpackJsonp=window.webpackJsonp||[],l=t.push.bind(t);t.push=n,t=t.slice();for(var c=0;c<t.length;c++)n(t[c]);var u=l;d()}([]),window.__SCRIPTS_LOADED__.runtime=!0;\n",
      "//# sourceMappingURL=runtime.46509454.js.map\n",
      "\n",
      "\n",
      "\n",
      "\n",
      "\n",
      "\n",
      "\n",
      "  if (!window.__SCRIPTS_LOADED__['main']) {\n",
      "    document.getElementById('ScriptLoadFailure').style.display = 'block';\n",
      "  }\n",
      "\n",
      "\n"
     ]
    }
   ],
   "source": [
    "print(soup.get_text())"
   ]
  },
  {
   "cell_type": "code",
   "execution_count": 25,
   "metadata": {},
   "outputs": [
    {
     "name": "stdout",
     "output_type": "stream",
     "text": [
      "None\n"
     ]
    }
   ],
   "source": [
    "# Find a Tweet with the data-name `Mars Weather`\n",
    "print"
   ]
  },
  {
   "cell_type": "code",
   "execution_count": 18,
   "metadata": {},
   "outputs": [
    {
     "ename": "AttributeError",
     "evalue": "'NoneType' object has no attribute 'find'",
     "output_type": "error",
     "traceback": [
      "\u001b[0;31m---------------------------------------------------------------------------\u001b[0m",
      "\u001b[0;31mAttributeError\u001b[0m                            Traceback (most recent call last)",
      "\u001b[0;32m<ipython-input-18-56009eae0277>\u001b[0m in \u001b[0;36m<module>\u001b[0;34m\u001b[0m\n\u001b[1;32m      1\u001b[0m \u001b[0;31m# Search Within Tweet for <p> Tag Containing Tweet Text\u001b[0m\u001b[0;34m\u001b[0m\u001b[0;34m\u001b[0m\u001b[0;34m\u001b[0m\u001b[0m\n\u001b[0;32m----> 2\u001b[0;31m \u001b[0mmars_weather\u001b[0m \u001b[0;34m=\u001b[0m \u001b[0mmars_weather_tweet\u001b[0m\u001b[0;34m.\u001b[0m\u001b[0mfind\u001b[0m\u001b[0;34m(\u001b[0m\u001b[0;34m\"tweet-text\"\u001b[0m\u001b[0;34m)\u001b[0m\u001b[0;34m.\u001b[0m\u001b[0mget_text\u001b[0m\u001b[0;34m(\u001b[0m\u001b[0;34m)\u001b[0m\u001b[0;34m\u001b[0m\u001b[0;34m\u001b[0m\u001b[0m\n\u001b[0m\u001b[1;32m      3\u001b[0m \u001b[0mprint\u001b[0m\u001b[0;34m(\u001b[0m\u001b[0mmars_weather\u001b[0m\u001b[0;34m)\u001b[0m\u001b[0;34m\u001b[0m\u001b[0;34m\u001b[0m\u001b[0m\n",
      "\u001b[0;31mAttributeError\u001b[0m: 'NoneType' object has no attribute 'find'"
     ]
    }
   ],
   "source": [
    "# Search Within Tweet for <p> Tag Containing Tweet Text\n",
    "mars_weather = mars_weather_tweet.find(\"tweet-text\").get_text()\n",
    "print(mars_weather)"
   ]
  },
  {
   "cell_type": "markdown",
   "metadata": {},
   "source": [
    "# Mars Facts"
   ]
  },
  {
   "cell_type": "code",
   "execution_count": 10,
   "metadata": {},
   "outputs": [
    {
     "data": {
      "text/html": [
       "<div>\n",
       "<style scoped>\n",
       "    .dataframe tbody tr th:only-of-type {\n",
       "        vertical-align: middle;\n",
       "    }\n",
       "\n",
       "    .dataframe tbody tr th {\n",
       "        vertical-align: top;\n",
       "    }\n",
       "\n",
       "    .dataframe thead th {\n",
       "        text-align: right;\n",
       "    }\n",
       "</style>\n",
       "<table border=\"1\" class=\"dataframe\">\n",
       "  <thead>\n",
       "    <tr style=\"text-align: right;\">\n",
       "      <th></th>\n",
       "      <th>Description</th>\n",
       "      <th>Values</th>\n",
       "    </tr>\n",
       "  </thead>\n",
       "  <tbody>\n",
       "    <tr>\n",
       "      <th>0</th>\n",
       "      <td>Equatorial Diameter:</td>\n",
       "      <td>6,792 km</td>\n",
       "    </tr>\n",
       "    <tr>\n",
       "      <th>1</th>\n",
       "      <td>Polar Diameter:</td>\n",
       "      <td>6,752 km</td>\n",
       "    </tr>\n",
       "    <tr>\n",
       "      <th>2</th>\n",
       "      <td>Mass:</td>\n",
       "      <td>6.39 × 10^23 kg (0.11 Earths)</td>\n",
       "    </tr>\n",
       "    <tr>\n",
       "      <th>3</th>\n",
       "      <td>Moons:</td>\n",
       "      <td>2 (Phobos &amp; Deimos)</td>\n",
       "    </tr>\n",
       "    <tr>\n",
       "      <th>4</th>\n",
       "      <td>Orbit Distance:</td>\n",
       "      <td>227,943,824 km (1.38 AU)</td>\n",
       "    </tr>\n",
       "    <tr>\n",
       "      <th>5</th>\n",
       "      <td>Orbit Period:</td>\n",
       "      <td>687 days (1.9 years)</td>\n",
       "    </tr>\n",
       "    <tr>\n",
       "      <th>6</th>\n",
       "      <td>Surface Temperature:</td>\n",
       "      <td>-87 to -5 °C</td>\n",
       "    </tr>\n",
       "    <tr>\n",
       "      <th>7</th>\n",
       "      <td>First Record:</td>\n",
       "      <td>2nd millennium BC</td>\n",
       "    </tr>\n",
       "    <tr>\n",
       "      <th>8</th>\n",
       "      <td>Recorded By:</td>\n",
       "      <td>Egyptian astronomers</td>\n",
       "    </tr>\n",
       "  </tbody>\n",
       "</table>\n",
       "</div>"
      ],
      "text/plain": [
       "            Description                         Values\n",
       "0  Equatorial Diameter:                       6,792 km\n",
       "1       Polar Diameter:                       6,752 km\n",
       "2                 Mass:  6.39 × 10^23 kg (0.11 Earths)\n",
       "3                Moons:            2 (Phobos & Deimos)\n",
       "4       Orbit Distance:       227,943,824 km (1.38 AU)\n",
       "5         Orbit Period:           687 days (1.9 years)\n",
       "6  Surface Temperature:                   -87 to -5 °C\n",
       "7         First Record:              2nd millennium BC\n",
       "8          Recorded By:           Egyptian astronomers"
      ]
     },
     "execution_count": 10,
     "metadata": {},
     "output_type": "execute_result"
    }
   ],
   "source": [
    "#Visit Space facts website - using pd.read_html that i found online and see from people's example\n",
    "mars_fact_df = pd.read_html(\"https://space-facts.com/mars/\")\n",
    "mars_fact_df = mars_fact_df[0]\n",
    "mars_fact_df = mars_fact_df.rename(columns = {0:\"Description\", 1:\"Values\"})\n",
    "mars_fact_df\n"
   ]
  },
  {
   "cell_type": "markdown",
   "metadata": {},
   "source": [
    "# Mars Hemispheres"
   ]
  },
  {
   "cell_type": "code",
   "execution_count": 24,
   "metadata": {},
   "outputs": [
    {
     "data": {
      "text/plain": [
       "<splinter.element_list.ElementList at 0x123d66050>"
      ]
     },
     "execution_count": 24,
     "metadata": {},
     "output_type": "execute_result"
    }
   ],
   "source": [
    "# Visit hemispheres website through splinter module \n",
    "hemispheres_url = 'https://astrogeology.usgs.gov/search/results?q=hemisphere+enhanced&k1=target&v1=Mars'\n",
    "browser.visit(hemispheres_url)\n",
    "\n",
    "# Get a list of all of the gemispheres and store \n",
    "#https://selenium-python.readthedocs.io/locating-elements.html\n",
    "links = browser.find_by_css(\"a.product-item h3\")\n",
    "links"
   ]
  },
  {
   "cell_type": "code",
   "execution_count": 25,
   "metadata": {},
   "outputs": [],
   "source": [
    "# Create an empyty list for us to store read links \n",
    "hemisphere_image_urls = []\n",
    "\n",
    "# click and loop through our link and find the sample anchor and return the link\n",
    "for i in range(len(links)):\n",
    "    hemisphere = {}\n",
    "    \n",
    "    # We have to find the elements on each loop to avoid a stale element exception\n",
    "    browser.find_by_css(\"a.product-item h3\")[i].click()\n",
    "    \n",
    "    #create a delay\n",
    "    time.sleep(3)\n",
    "    \n",
    "    # Next, we find the Sample image anchor tag, title and extract the href\n",
    "    sample_elem = browser.find_link_by_text('Sample').first\n",
    "    hemisphere['title'] = browser.find_by_css(\"h2.title\").text\n",
    "    hemisphere['img_url'] = sample_elem['href']\n",
    "    \n",
    "    # Append hemisphere object to list\n",
    "    hemisphere_image_urls.append(hemisphere)\n",
    "    \n",
    "    # Finally, we navigate backwards\n",
    "    browser.back()\n"
   ]
  },
  {
   "cell_type": "code",
   "execution_count": 26,
   "metadata": {},
   "outputs": [
    {
     "name": "stdout",
     "output_type": "stream",
     "text": [
      "[{'title': 'Cerberus Hemisphere Enhanced', 'img_url': 'http://astropedia.astrogeology.usgs.gov/download/Mars/Viking/cerberus_enhanced.tif/full.jpg'}, {'title': 'Schiaparelli Hemisphere Enhanced', 'img_url': 'http://astropedia.astrogeology.usgs.gov/download/Mars/Viking/schiaparelli_enhanced.tif/full.jpg'}, {'title': 'Syrtis Major Hemisphere Enhanced', 'img_url': 'http://astropedia.astrogeology.usgs.gov/download/Mars/Viking/syrtis_major_enhanced.tif/full.jpg'}, {'title': 'Valles Marineris Hemisphere Enhanced', 'img_url': 'http://astropedia.astrogeology.usgs.gov/download/Mars/Viking/valles_marineris_enhanced.tif/full.jpg'}]\n"
     ]
    }
   ],
   "source": [
    "print(hemisphere_image_urls)"
   ]
  },
  {
   "cell_type": "code",
   "execution_count": null,
   "metadata": {},
   "outputs": [],
   "source": []
  },
  {
   "cell_type": "code",
   "execution_count": null,
   "metadata": {},
   "outputs": [],
   "source": []
  }
 ],
 "metadata": {
  "kernelspec": {
   "display_name": "Python 3.7.5 64-bit ('PythonData': conda)",
   "language": "python",
   "name": "python37564bitpythondatacondac4bad84f35734d9985b68da147cda670"
  },
  "language_info": {
   "codemirror_mode": {
    "name": "ipython",
    "version": 3
   },
   "file_extension": ".py",
   "mimetype": "text/x-python",
   "name": "python",
   "nbconvert_exporter": "python",
   "pygments_lexer": "ipython3",
   "version": "3.7.5"
  }
 },
 "nbformat": 4,
 "nbformat_minor": 2
}
